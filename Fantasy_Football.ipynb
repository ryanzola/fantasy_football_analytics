{
 "cells": [
  {
   "cell_type": "markdown",
   "id": "4f75d7e7-2d2f-4013-98f6-6e1b67875cfb",
   "metadata": {},
   "source": [
    "# Fantasy Football"
   ]
  },
  {
   "cell_type": "code",
   "execution_count": null,
   "id": "daa2367d-dd42-462a-9219-de100b0cc14c",
   "metadata": {},
   "outputs": [],
   "source": [
    "%pip install requests"
   ]
  },
  {
   "cell_type": "code",
   "execution_count": 6,
   "id": "de03f609-123a-4446-a86b-3c5b3a9d9145",
   "metadata": {},
   "outputs": [],
   "source": [
    "import requests\n",
    "import pandas as pd"
   ]
  },
  {
   "cell_type": "code",
   "execution_count": 7,
   "id": "d79ca9b1-e9d6-4d18-9d4d-0e0f266afd6b",
   "metadata": {},
   "outputs": [],
   "source": [
    "swid ='{ 0B9D34C5-07DA-4BA4-9D34-C507DA8BA44C }'\n",
    "espn_s2 = 'AEAJJ9VCHr%2Bj1P5tm%2BrYgx8fG4Kwzl4%2BBDI%2B%2F7ZjKKQxNSJ44%2BmM9QY6pFpXP636Mfp36GHhvvu96DshKBMNcuk3cXXsNXVYZhDTZawi4hITh%2BuLnJHigarjRyANweqUh05VQYYwMVjjwC1BLFT7jnAyWr0Kx9dM63jLpstXy2iRmwAjVvR%2BW02dhEYckOtQA9lyQXS6%2B0tV4c5NZvCDPrN85%2F0GneG1hDZNV%2FEUH76CesKV5manJkX9NCD03R6mKHk6SQBuT2ugOti1R0w%2BRPCd'"
   ]
  },
  {
   "cell_type": "code",
   "execution_count": 8,
   "id": "4f2cf64f-c54a-429f-be80-aa239b13387f",
   "metadata": {},
   "outputs": [],
   "source": [
    "league_id = 1573528230\n",
    "season = '2023'\n",
    "week = 1"
   ]
  },
  {
   "cell_type": "code",
   "execution_count": 9,
   "id": "2e8a081a-5532-4269-90a1-dab8edb2105d",
   "metadata": {},
   "outputs": [],
   "source": [
    "url = f'https://fantasy.espn.com/apis/v3/games/ffl/seasons/{season}/segments/0/leagues/{league_id}?view=mMatchup&view=mMatchupScore'"
   ]
  },
  {
   "cell_type": "code",
   "execution_count": 10,
   "id": "0041c955-1b3f-42d8-8298-ba34d1b02371",
   "metadata": {},
   "outputs": [],
   "source": [
    "r = requests.get(url,\n",
    "                 params={ 'scoringPeriodId': week },\n",
    "                 cookies={ 'SWID': swid, 'espn_s2': espn_s2 })\n",
    "\n",
    "espn_raw_data = r.json()"
   ]
  },
  {
   "cell_type": "markdown",
   "id": "f029d215-1877-4439-9ef5-d6cd2bc288a3",
   "metadata": {},
   "source": [
    "## Saving JSON Response to a Pandas Dataframe"
   ]
  },
  {
   "cell_type": "markdown",
   "id": "ed6b7147-0a82-47a1-b29f-fe40b6153df0",
   "metadata": {},
   "source": [
    "### Accessing Nested JSON Data"
   ]
  },
  {
   "cell_type": "code",
   "execution_count": 58,
   "id": "82f5cdc7-6568-4465-b6df-ff1a0dc63911",
   "metadata": {},
   "outputs": [],
   "source": [
    "columns = ['Team', 'Player', 'Slot', 'Position', 'Projected', 'Actual']"
   ]
  },
  {
   "cell_type": "code",
   "execution_count": 59,
   "id": "e4debbdd-440f-493c-abf6-3a0806311069",
   "metadata": {},
   "outputs": [
    {
     "data": {
      "text/plain": [
       "2"
      ]
     },
     "execution_count": 59,
     "metadata": {},
     "output_type": "execute_result"
    }
   ],
   "source": [
    "# Get a single team\n",
    "team = espn_raw_data['teams'][1]\n",
    "team_id = team['id']\n",
    "\n",
    "team_id"
   ]
  },
  {
   "cell_type": "code",
   "execution_count": 60,
   "id": "5890fded-71a8-4227-a889-0eb77bac1d14",
   "metadata": {},
   "outputs": [],
   "source": [
    "# get team names\n",
    "team_abbrev = {\n",
    "    1: 'HELL',\n",
    "    2: 'NYTP',\n",
    "    3: 'CRES',\n",
    "    4: 'BROW',\n",
    "    5: 'RBB',\n",
    "    6: 'DHIL',\n",
    "    7: 'ceck',\n",
    "    8: 'DURH',\n",
    "    9: 'BTL',\n",
    "    10: 'Amon'\n",
    "}"
   ]
  },
  {
   "cell_type": "code",
   "execution_count": 61,
   "id": "c173c480-36cf-4f6c-bcec-f90609f9bb05",
   "metadata": {},
   "outputs": [
    {
     "name": "stdout",
     "output_type": "stream",
     "text": [
      "NYTP\n"
     ]
    }
   ],
   "source": [
    "team_owner = team_abbrev[team_id]\n",
    "print(team_owner)"
   ]
  },
  {
   "cell_type": "code",
   "execution_count": 62,
   "id": "46bf8c91-c069-4b79-9246-b1b4394af063",
   "metadata": {},
   "outputs": [
    {
     "name": "stdout",
     "output_type": "stream",
     "text": [
      "Josh Allen\n",
      "0\n",
      "Saquon Barkley\n",
      "2\n",
      "Joe Mixon\n",
      "2\n",
      "Mark Andrews\n",
      "6\n",
      "Patriots D/ST\n",
      "20\n",
      "Justin Tucker\n",
      "17\n",
      "Mike Williams\n",
      "4\n",
      "Jalin Hyatt\n",
      "20\n",
      "Christian Kirk\n",
      "23\n",
      "David Montgomery\n",
      "20\n",
      "Jakobi Meyers\n",
      "4\n",
      "Gabe Davis\n",
      "20\n",
      "Bills D/ST\n",
      "16\n",
      "Matthew Stafford\n",
      "20\n",
      "Tyler Boyd\n",
      "20\n",
      "Devin Singletary\n",
      "20\n"
     ]
    }
   ],
   "source": [
    "# loop over all the players in the teams roster\n",
    "for player in team['roster']['entries']:\n",
    "    print(player['playerPoolEntry']['player']['fullName'])\n",
    "    print(player['lineupSlotId'])"
   ]
  },
  {
   "cell_type": "code",
   "execution_count": 63,
   "id": "d7e01ce3-e0bd-4b06-b219-3b4a2e149c04",
   "metadata": {},
   "outputs": [],
   "source": [
    "# make sure these map to my roster settings\n",
    "eligible_positions = {\n",
    "    0: 'QB',\n",
    "    2: 'RB',\n",
    "    4: 'WR',\n",
    "    6: 'TE',\n",
    "    16: 'D/ST',\n",
    "    17: 'K',\n",
    "    20: 'Bench',\n",
    "    23: 'Flex'\n",
    "}"
   ]
  },
  {
   "cell_type": "code",
   "execution_count": 64,
   "id": "a9539548-6f6d-430c-9287-2146b2b47f82",
   "metadata": {},
   "outputs": [
    {
     "name": "stdout",
     "output_type": "stream",
     "text": [
      "Josh Allen\n",
      "0\n",
      "QB\n",
      "Saquon Barkley\n",
      "2\n",
      "RB\n",
      "Joe Mixon\n",
      "2\n",
      "RB\n",
      "Mark Andrews\n",
      "6\n",
      "TE\n",
      "Patriots D/ST\n",
      "20\n",
      "Bench\n",
      "Justin Tucker\n",
      "17\n",
      "K\n",
      "Mike Williams\n",
      "4\n",
      "WR\n",
      "Jalin Hyatt\n",
      "20\n",
      "Bench\n",
      "Christian Kirk\n",
      "23\n",
      "Flex\n",
      "David Montgomery\n",
      "20\n",
      "Bench\n",
      "Jakobi Meyers\n",
      "4\n",
      "WR\n",
      "Gabe Davis\n",
      "20\n",
      "Bench\n",
      "Bills D/ST\n",
      "16\n",
      "D/ST\n",
      "Matthew Stafford\n",
      "20\n",
      "Bench\n",
      "Tyler Boyd\n",
      "20\n",
      "Bench\n",
      "Devin Singletary\n",
      "20\n",
      "Bench\n"
     ]
    }
   ],
   "source": [
    "# loop over every player on the teams roster\n",
    "for player in team['roster']['entries']:\n",
    "    print(player['playerPoolEntry']['player']['fullName'])\n",
    "    print(player['lineupSlotId'])\n",
    "    lineup_slot = player['lineupSlotId']\n",
    "    print(eligible_positions[lineup_slot])"
   ]
  },
  {
   "cell_type": "markdown",
   "id": "b5850f0a-1be0-49c5-ab11-012ccf50590c",
   "metadata": {},
   "source": [
    "## Projected and Actual Points"
   ]
  },
  {
   "cell_type": "code",
   "execution_count": 65,
   "id": "b15efc45-fdca-44f3-b8bb-debddf7949d3",
   "metadata": {},
   "outputs": [
    {
     "name": "stdout",
     "output_type": "stream",
     "text": [
      "Josh Allen\n"
     ]
    }
   ],
   "source": [
    "# For a single player\n",
    "team = espn_raw_data['teams'][1]\n",
    "player = team['roster']['entries'][0]\n",
    "player_name = player['playerPoolEntry']['player']['fullName']\n",
    "print(player_name)"
   ]
  },
  {
   "cell_type": "code",
   "execution_count": 66,
   "id": "7ed852ad-41e0-4d66-b8a5-c6a67d524450",
   "metadata": {},
   "outputs": [
    {
     "name": "stdout",
     "output_type": "stream",
     "text": [
      "Josh Allen\n",
      "0\n",
      "0\n"
     ]
    }
   ],
   "source": [
    "actual = 0\n",
    "projected = 0\n",
    "\n",
    "for stats in player['playerPoolEntry']['player']['stats']:\n",
    "    # skip the rows where the scoring period does not mater up with the current week\n",
    "    if stats['scoringPeriodId'] != week:\n",
    "        continue\n",
    "    # if the source id = 0 then these are actual stats\n",
    "    if stats['statSourceId'] == 0:\n",
    "        actual = stats['appliedTotal']\n",
    "    elif stats['statSourceId'] == 1:\n",
    "        projected = stats['appliedTotal']\n",
    "\n",
    "print(player_name)\n",
    "print(actual or 0)\n",
    "print(projected)"
   ]
  },
  {
   "cell_type": "code",
   "execution_count": 67,
   "id": "4b689a56-022e-4a87-b919-f8ddcfd93178",
   "metadata": {},
   "outputs": [
    {
     "name": "stdout",
     "output_type": "stream",
     "text": [
      "Josh Allen\n",
      "0\n",
      "(None,)\n",
      "Saquon Barkley\n",
      "0\n",
      "(None,)\n",
      "Joe Mixon\n",
      "0\n",
      "(None,)\n",
      "Mark Andrews\n",
      "0\n",
      "(None,)\n",
      "Patriots D/ST\n",
      "0\n",
      "(None,)\n",
      "Justin Tucker\n",
      "0\n",
      "(None,)\n",
      "Mike Williams\n",
      "0\n",
      "(None,)\n",
      "Jalin Hyatt\n",
      "0\n",
      "(None,)\n",
      "Christian Kirk\n",
      "0\n",
      "(None,)\n",
      "David Montgomery\n",
      "0\n",
      "(None,)\n",
      "Jakobi Meyers\n",
      "0\n",
      "(None,)\n",
      "Gabe Davis\n",
      "0\n",
      "(None,)\n",
      "Bills D/ST\n",
      "0\n",
      "(None,)\n",
      "Matthew Stafford\n",
      "0\n",
      "(None,)\n",
      "Tyler Boyd\n",
      "0\n",
      "(None,)\n",
      "Devin Singletary\n",
      "0\n",
      "(None,)\n"
     ]
    }
   ],
   "source": [
    "team = espn_raw_data['teams'][1]\n",
    "for player in team['roster']['entries']:\n",
    "    player_name = player['playerPoolEntry']['player']['fullName']\n",
    "    # get the projected and actual points\n",
    "    projected = None,\n",
    "    actual = None\n",
    "    # loop over the stats for each player\n",
    "    for stats in player['playerPoolEntry']['player']['stats']:\n",
    "        # skip the rows where the scoring period does not match up with the current week\n",
    "        if stats['scoringPeriodId'] != week:\n",
    "            continue\n",
    "        if stats['statSourceId'] == 0:\n",
    "            actual = stats['appliedTotal']\n",
    "        elif stats['statSourceId'] == 1:\n",
    "            projected = stats['appliedTotal']\n",
    "        \n",
    "    print(player_name)\n",
    "    print(actual or 0)\n",
    "    print(projected)"
   ]
  },
  {
   "cell_type": "code",
   "execution_count": 68,
   "id": "b069129d-2712-417d-a1e4-49c56d00e085",
   "metadata": {},
   "outputs": [
    {
     "name": "stdout",
     "output_type": "stream",
     "text": [
      "Week 1\n",
      "Week 2\n",
      "Week 3\n",
      "Week 4\n",
      "Week 5\n",
      "Week 6\n",
      "Week 7\n",
      "Week 8\n",
      "Week 9\n",
      "Week 10\n",
      "Week 11\n",
      "Week 12\n",
      "Week 13\n",
      "Week 14\n",
      "Done getting projected & actual stats\n"
     ]
    }
   ],
   "source": [
    "# Create an empty list to append data to\n",
    "projection_data = []\n",
    "\n",
    "for week in range(1, 15): # change to 18 to include playoffs\n",
    "    print('Week', week)\n",
    "    \n",
    "    # get the raw data\n",
    "    r = requests.get(url,\n",
    "                     params={ 'scoringPeriodId': week },\n",
    "                     cookies={ 'SWID': swid, 'espn_s2': espn_s2 })\n",
    "    \n",
    "    espn_raw_data = r.json()\n",
    "    \n",
    "    # loop over each team in the request\n",
    "    for team in espn_raw_data['teams']:\n",
    "        # get the team_id so we can map it to team_names\n",
    "        team_id = team['id']\n",
    "        # create a new column with the team_abbrev using the team_id as the key\n",
    "        team_owner = team_abbrev[team_id]\n",
    "        # loop over every player on the team roster\n",
    "        for player in team['roster']['entries']:\n",
    "            player_name = player['playerPoolEntry']['player']['fullName']\n",
    "            lineup_slot = player['lineupSlotId']\n",
    "            # create a new column with the position using the lineup_slot as the key\n",
    "            position = eligible_positions[lineup_slot]\n",
    "            \n",
    "            #get the projected and actual points\n",
    "            projected = None\n",
    "            actual = None\n",
    "            # loop over the stats for each player\n",
    "            for stats in player['playerPoolEntry']['player']['stats']:\n",
    "                # skip the rows where the scoring period does not match up with the current week\n",
    "                if stats['scoringPeriodId'] != week:\n",
    "                    continue\n",
    "                if stats['statSourceId'] == 0:\n",
    "                    actual = stats['appliedTotal']\n",
    "                elif stats['statSourceId'] == 1:\n",
    "                    projected = stats['appliedTotal']\n",
    "                    \n",
    "            # append all the data to the empty list\n",
    "            projection_data.append([\n",
    "                week,\n",
    "                team_owner,\n",
    "                player_name,\n",
    "                lineup_slot,\n",
    "                position,\n",
    "                projected,\n",
    "                actual\n",
    "            ])\n",
    "            \n",
    "print('Done getting projected & actual stats')"
   ]
  },
  {
   "cell_type": "code",
   "execution_count": 69,
   "id": "d15113aa-1ddb-42e4-acad-5c126ca20361",
   "metadata": {},
   "outputs": [
    {
     "data": {
      "text/html": [
       "<div>\n",
       "<style scoped>\n",
       "    .dataframe tbody tr th:only-of-type {\n",
       "        vertical-align: middle;\n",
       "    }\n",
       "\n",
       "    .dataframe tbody tr th {\n",
       "        vertical-align: top;\n",
       "    }\n",
       "\n",
       "    .dataframe thead th {\n",
       "        text-align: right;\n",
       "    }\n",
       "</style>\n",
       "<table border=\"1\" class=\"dataframe\">\n",
       "  <thead>\n",
       "    <tr style=\"text-align: right;\">\n",
       "      <th></th>\n",
       "      <th>Week</th>\n",
       "      <th>Team</th>\n",
       "      <th>Player</th>\n",
       "      <th>Lineup Slot</th>\n",
       "      <th>Position</th>\n",
       "      <th>Projected</th>\n",
       "      <th>Actual</th>\n",
       "    </tr>\n",
       "  </thead>\n",
       "  <tbody>\n",
       "    <tr>\n",
       "      <th>947</th>\n",
       "      <td>6</td>\n",
       "      <td>Amon</td>\n",
       "      <td>Calvin Ridley</td>\n",
       "      <td>23</td>\n",
       "      <td>Flex</td>\n",
       "      <td>NaN</td>\n",
       "      <td>None</td>\n",
       "    </tr>\n",
       "    <tr>\n",
       "      <th>9</th>\n",
       "      <td>1</td>\n",
       "      <td>HELL</td>\n",
       "      <td>George Pickens</td>\n",
       "      <td>20</td>\n",
       "      <td>Bench</td>\n",
       "      <td>10.776597</td>\n",
       "      <td>None</td>\n",
       "    </tr>\n",
       "    <tr>\n",
       "      <th>530</th>\n",
       "      <td>4</td>\n",
       "      <td>BROW</td>\n",
       "      <td>Jalen Hurts</td>\n",
       "      <td>0</td>\n",
       "      <td>QB</td>\n",
       "      <td>NaN</td>\n",
       "      <td>None</td>\n",
       "    </tr>\n",
       "    <tr>\n",
       "      <th>996</th>\n",
       "      <td>7</td>\n",
       "      <td>CRES</td>\n",
       "      <td>Jahmyr Gibbs</td>\n",
       "      <td>2</td>\n",
       "      <td>RB</td>\n",
       "      <td>NaN</td>\n",
       "      <td>None</td>\n",
       "    </tr>\n",
       "    <tr>\n",
       "      <th>469</th>\n",
       "      <td>3</td>\n",
       "      <td>Amon</td>\n",
       "      <td>Trevor Lawrence</td>\n",
       "      <td>0</td>\n",
       "      <td>QB</td>\n",
       "      <td>NaN</td>\n",
       "      <td>None</td>\n",
       "    </tr>\n",
       "    <tr>\n",
       "      <th>1957</th>\n",
       "      <td>13</td>\n",
       "      <td>CRES</td>\n",
       "      <td>Chris Godwin</td>\n",
       "      <td>20</td>\n",
       "      <td>Bench</td>\n",
       "      <td>NaN</td>\n",
       "      <td>None</td>\n",
       "    </tr>\n",
       "    <tr>\n",
       "      <th>2088</th>\n",
       "      <td>14</td>\n",
       "      <td>HELL</td>\n",
       "      <td>Michael Pittman Jr.</td>\n",
       "      <td>20</td>\n",
       "      <td>Bench</td>\n",
       "      <td>NaN</td>\n",
       "      <td>None</td>\n",
       "    </tr>\n",
       "    <tr>\n",
       "      <th>1749</th>\n",
       "      <td>11</td>\n",
       "      <td>Amon</td>\n",
       "      <td>Trevor Lawrence</td>\n",
       "      <td>0</td>\n",
       "      <td>QB</td>\n",
       "      <td>NaN</td>\n",
       "      <td>None</td>\n",
       "    </tr>\n",
       "    <tr>\n",
       "      <th>865</th>\n",
       "      <td>6</td>\n",
       "      <td>RBB</td>\n",
       "      <td>Lamar Jackson</td>\n",
       "      <td>0</td>\n",
       "      <td>QB</td>\n",
       "      <td>NaN</td>\n",
       "      <td>None</td>\n",
       "    </tr>\n",
       "    <tr>\n",
       "      <th>399</th>\n",
       "      <td>3</td>\n",
       "      <td>RBB</td>\n",
       "      <td>Jake Elliott</td>\n",
       "      <td>20</td>\n",
       "      <td>Bench</td>\n",
       "      <td>NaN</td>\n",
       "      <td>None</td>\n",
       "    </tr>\n",
       "  </tbody>\n",
       "</table>\n",
       "</div>"
      ],
      "text/plain": [
       "      Week  Team               Player  Lineup Slot Position  Projected Actual\n",
       "947      6  Amon        Calvin Ridley           23     Flex        NaN   None\n",
       "9        1  HELL       George Pickens           20    Bench  10.776597   None\n",
       "530      4  BROW          Jalen Hurts            0       QB        NaN   None\n",
       "996      7  CRES         Jahmyr Gibbs            2       RB        NaN   None\n",
       "469      3  Amon      Trevor Lawrence            0       QB        NaN   None\n",
       "1957    13  CRES         Chris Godwin           20    Bench        NaN   None\n",
       "2088    14  HELL  Michael Pittman Jr.           20    Bench        NaN   None\n",
       "1749    11  Amon      Trevor Lawrence            0       QB        NaN   None\n",
       "865      6   RBB        Lamar Jackson            0       QB        NaN   None\n",
       "399      3   RBB         Jake Elliott           20    Bench        NaN   None"
      ]
     },
     "execution_count": 69,
     "metadata": {},
     "output_type": "execute_result"
    }
   ],
   "source": [
    "df = pd.DataFrame(projection_data,\n",
    "                  columns=['Week',\n",
    "                           'Team',\n",
    "                           'Player',\n",
    "                           'Lineup Slot',\n",
    "                           'Position',\n",
    "                           'Projected',\n",
    "                           'Actual'])\n",
    "\n",
    "# sample ten random rows\n",
    "df.fillna(0)\n",
    "df.sample(10)"
   ]
  },
  {
   "cell_type": "markdown",
   "id": "11bab486-9e0f-421a-a008-c371612a0cf4",
   "metadata": {},
   "source": [
    "## Plotting Actual vs Projected for a Team"
   ]
  },
  {
   "cell_type": "code",
   "execution_count": 70,
   "id": "2ea2dda0-aa4d-424e-880d-2e3ecf33825c",
   "metadata": {},
   "outputs": [],
   "source": [
    "import matplotlib.pyplot as plt"
   ]
  },
  {
   "cell_type": "code",
   "execution_count": 71,
   "id": "60f37c14-e606-4103-9c0e-d225c5c276a8",
   "metadata": {},
   "outputs": [],
   "source": [
    "# filter out bench for projection purposes. D/ST can break this\n",
    "starters_df = df[~df['Position'].isin(['Bench'])]"
   ]
  },
  {
   "cell_type": "code",
   "execution_count": 72,
   "id": "5e7ef4a9-79de-40d4-adc8-62c65a62acbe",
   "metadata": {},
   "outputs": [
    {
     "data": {
      "text/html": [
       "<div>\n",
       "<style scoped>\n",
       "    .dataframe tbody tr th:only-of-type {\n",
       "        vertical-align: middle;\n",
       "    }\n",
       "\n",
       "    .dataframe tbody tr th {\n",
       "        vertical-align: top;\n",
       "    }\n",
       "\n",
       "    .dataframe thead th {\n",
       "        text-align: right;\n",
       "    }\n",
       "</style>\n",
       "<table border=\"1\" class=\"dataframe\">\n",
       "  <thead>\n",
       "    <tr style=\"text-align: right;\">\n",
       "      <th></th>\n",
       "      <th>Week</th>\n",
       "      <th>Team</th>\n",
       "      <th>Player</th>\n",
       "      <th>Lineup Slot</th>\n",
       "      <th>Position</th>\n",
       "      <th>Projected</th>\n",
       "      <th>Actual</th>\n",
       "    </tr>\n",
       "  </thead>\n",
       "  <tbody>\n",
       "    <tr>\n",
       "      <th>1676</th>\n",
       "      <td>11</td>\n",
       "      <td>RBB</td>\n",
       "      <td>Evan McPherson</td>\n",
       "      <td>17</td>\n",
       "      <td>K</td>\n",
       "      <td>0.0</td>\n",
       "      <td>0</td>\n",
       "    </tr>\n",
       "    <tr>\n",
       "      <th>1538</th>\n",
       "      <td>10</td>\n",
       "      <td>ceck</td>\n",
       "      <td>Travis Etienne Jr.</td>\n",
       "      <td>23</td>\n",
       "      <td>Flex</td>\n",
       "      <td>0.0</td>\n",
       "      <td>0</td>\n",
       "    </tr>\n",
       "    <tr>\n",
       "      <th>943</th>\n",
       "      <td>6</td>\n",
       "      <td>BTL</td>\n",
       "      <td>Tyler Bass</td>\n",
       "      <td>17</td>\n",
       "      <td>K</td>\n",
       "      <td>0.0</td>\n",
       "      <td>0</td>\n",
       "    </tr>\n",
       "    <tr>\n",
       "      <th>1346</th>\n",
       "      <td>9</td>\n",
       "      <td>RBB</td>\n",
       "      <td>Jaylen Waddle</td>\n",
       "      <td>4</td>\n",
       "      <td>WR</td>\n",
       "      <td>0.0</td>\n",
       "      <td>0</td>\n",
       "    </tr>\n",
       "    <tr>\n",
       "      <th>1779</th>\n",
       "      <td>12</td>\n",
       "      <td>NYTP</td>\n",
       "      <td>Mark Andrews</td>\n",
       "      <td>6</td>\n",
       "      <td>TE</td>\n",
       "      <td>0.0</td>\n",
       "      <td>0</td>\n",
       "    </tr>\n",
       "  </tbody>\n",
       "</table>\n",
       "</div>"
      ],
      "text/plain": [
       "      Week  Team              Player  Lineup Slot Position  Projected  Actual\n",
       "1676    11   RBB      Evan McPherson           17        K        0.0       0\n",
       "1538    10  ceck  Travis Etienne Jr.           23     Flex        0.0       0\n",
       "943      6   BTL          Tyler Bass           17        K        0.0       0\n",
       "1346     9   RBB       Jaylen Waddle            4       WR        0.0       0\n",
       "1779    12  NYTP        Mark Andrews            6       TE        0.0       0"
      ]
     },
     "execution_count": 72,
     "metadata": {},
     "output_type": "execute_result"
    }
   ],
   "source": [
    "# fillna so we dont hit any errors when grouping data\n",
    "starters_df = starters_df.fillna(0)\n",
    "starters_df.sample(5)"
   ]
  },
  {
   "cell_type": "code",
   "execution_count": 73,
   "id": "62040c2a-37ce-4121-9cf2-104162fee646",
   "metadata": {},
   "outputs": [
    {
     "data": {
      "text/plain": [
       "Week             int64\n",
       "Team            object\n",
       "Player          object\n",
       "Lineup Slot      int64\n",
       "Position        object\n",
       "Projected      float64\n",
       "Actual           int64\n",
       "dtype: object"
      ]
     },
     "execution_count": 73,
     "metadata": {},
     "output_type": "execute_result"
    }
   ],
   "source": [
    "# Confirm projected and actual are floats\n",
    "starters_df.dtypes"
   ]
  },
  {
   "cell_type": "markdown",
   "id": "feb0f218-86d1-47ec-acfa-23197fbad4ba",
   "metadata": {},
   "source": [
    "### Pick One Team and Plot Their Season by Week"
   ]
  },
  {
   "cell_type": "code",
   "execution_count": 74,
   "id": "a46ab525-3beb-4da2-afc1-6ab65f62dc3c",
   "metadata": {},
   "outputs": [],
   "source": [
    "# filter down and select only the one teams starters\n",
    "team_starters_df = starters_df[starters_df['Team'] == 'NYTP']"
   ]
  },
  {
   "cell_type": "code",
   "execution_count": 75,
   "id": "0d7891b2-6fa2-43a6-9265-f54e34076f63",
   "metadata": {},
   "outputs": [
    {
     "data": {
      "image/png": "[encoded data removed]",
      "text/plain": [
       "<Figure size 1200x600 with 1 Axes>"
      ]
     },
     "metadata": {},
     "output_type": "display_data"
    }
   ],
   "source": [
    "# Select the 'Week' and 'value' columns from the groupby object\n",
    "plot_data = team_starters_df[['Week', 'Projected', 'Actual']].groupby(['Week']).sum().reset_index()\n",
    "\n",
    "# set the figure size and create the plot\n",
    "plt.figure(figsize=(12,6))\n",
    "plt.plot(plot_data['Week'], plot_data['Projected'], 'bo', label='Projected')\n",
    "plt.plot(plot_data['Week'], plot_data['Actual'], 'ro', label='Actual')\n",
    "plt.plot(plot_data['Week'], plot_data['Projected'], 'b-')\n",
    "plt.plot(plot_data['Week'], plot_data['Actual'], 'r-')\n",
    "\n",
    "# add a legend and show the plot\n",
    "plt.title('Projected vs. Actual Points')\n",
    "plt.legend()\n",
    "plt.xticks(plot_data['Week'])\n",
    "plt.show()"
   ]
  },
  {
   "cell_type": "code",
   "execution_count": 76,
   "id": "456425ec-e355-4a71-8c30-a6c3846f326a",
   "metadata": {},
   "outputs": [],
   "source": [
    "# Create a function to do it for each team\n",
    "# this will only work with bench players filtered out\n",
    "def plot_team(df, team_abbrev):\n",
    "    # filter and select only the one teams starters\n",
    "    df2 = df[df['Team'] == team_abbrev]\n",
    "    \n",
    "\n",
    "    # Select the 'Week' and 'value' columns from the groupby object\n",
    "    plot_data = df2[['Week', 'Projected', 'Actual']].groupby(['Week']).sum().reset_index()\n",
    "\n",
    "    # set the figure size and create the plot\n",
    "    plt.figure(figsize=(12,6))\n",
    "    plt.plot(plot_data['Week'], plot_data['Projected'], 'bo', label='Projected')\n",
    "    plt.plot(plot_data['Week'], plot_data['Actual'], 'ro', label='Actual')\n",
    "    plt.plot(plot_data['Week'], plot_data['Projected'], 'b-')\n",
    "    plt.plot(plot_data['Week'], plot_data['Actual'], 'r-')\n",
    "\n",
    "    # add a legend and show the plot\n",
    "    plt.title('Projected vs. Actual Points')\n",
    "    plt.legend()\n",
    "    plt.xticks(plot_data['Week'])\n",
    "    plt.show()"
   ]
  },
  {
   "cell_type": "code",
   "execution_count": 78,
   "id": "265ffbc6-0275-4467-b7a9-c051690413e7",
   "metadata": {},
   "outputs": [
    {
     "data": {
      "image/png": "[encoded data removed]",
      "text/plain": [
       "<Figure size 1200x600 with 1 Axes>"
      ]
     },
     "metadata": {},
     "output_type": "display_data"
    }
   ],
   "source": [
    "plot_team(starters_df, 'NYTP')"
   ]
  },
  {
   "cell_type": "markdown",
   "id": "a20f2161-7db1-4a68-80ab-fda63246f0b7",
   "metadata": {},
   "source": [
    "## Quantifying the Difference in Projections & Actuals"
   ]
  },
  {
   "cell_type": "code",
   "execution_count": 79,
   "id": "bc01375d-e4a7-47cd-be9a-f0da02396bd2",
   "metadata": {},
   "outputs": [],
   "source": [
    "# create a function to get the difference of projections and actuals\n",
    "def calc_difference(df):\n",
    "    return df['Projected'].sum() - df['Actual'].sum()"
   ]
  },
  {
   "cell_type": "code",
   "execution_count": 80,
   "id": "a4cac1cc-a1bd-484c-8900-c441ca0330b0",
   "metadata": {},
   "outputs": [],
   "source": [
    "# use the starters df and groupby team and apply the function\n",
    "team_df = starters_df.groupby(['Team']).apply(calc_difference)"
   ]
  },
  {
   "cell_type": "code",
   "execution_count": 81,
   "id": "5fffc006-26b6-4d34-b9c7-b018df28cecb",
   "metadata": {},
   "outputs": [
    {
     "name": "stdout",
     "output_type": "stream",
     "text": [
      "Team\n",
      "Amon    125.0\n",
      "BROW    108.0\n",
      "BTL     106.0\n",
      "CRES    124.0\n",
      "DHIL    129.0\n",
      "DURH    129.0\n",
      "HELL    132.0\n",
      "NYTP    118.0\n",
      "RBB     121.0\n",
      "ceck     82.0\n",
      "dtype: float64 2\n"
     ]
    }
   ],
   "source": [
    "# print\n",
    "with pd.option_context('display.max_rows', None, 'display.max_columns', None):\n",
    "    print(round(team_df), 2)"
   ]
  },
  {
   "cell_type": "code",
   "execution_count": 82,
   "id": "6951a845-95bf-412d-93e1-87a1e5e284a9",
   "metadata": {},
   "outputs": [
    {
     "name": "stdout",
     "output_type": "stream",
     "text": [
      "Team\n",
      "ceck     82.0\n",
      "BTL     106.0\n",
      "BROW    108.0\n",
      "NYTP    118.0\n",
      "RBB     121.0\n",
      "CRES    124.0\n",
      "Amon    125.0\n",
      "DURH    129.0\n",
      "DHIL    129.0\n",
      "HELL    132.0\n",
      "dtype: float64 2\n"
     ]
    }
   ],
   "source": [
    "# Sort best to worst\n",
    "with pd.option_context('display.max_rows', None, 'display.max_columns', None):\n",
    "    print(round(team_df.sort_values()), 2)"
   ]
  },
  {
   "cell_type": "markdown",
   "id": "f8e80182-786b-4824-be98-17a6b839443c",
   "metadata": {},
   "source": [
    "### Breakdown by Week, Position, and Player"
   ]
  },
  {
   "cell_type": "code",
   "execution_count": 83,
   "id": "492f1da2-eea0-4860-a34e-d65aacb305fe",
   "metadata": {},
   "outputs": [],
   "source": [
    "weekly_final_df = starters_df.groupby(['Team', 'Week']).apply(calc_difference)\n",
    "position_df = starters_df.groupby(['Team', 'Position']).apply(calc_difference)\n",
    "player_df = starters_df.groupby(['Team', 'Player']).apply(calc_difference)"
   ]
  },
  {
   "cell_type": "code",
   "execution_count": null,
   "id": "96bb496a-a3d9-4cd4-9bc4-5f2d407d0e47",
   "metadata": {},
   "outputs": [],
   "source": [
    "with pd.option_context('display.max_rows', None, 'display.max_columns', None):\n",
    "    print(round(weekly_final_df), 2)"
   ]
  },
  {
   "cell_type": "code",
   "execution_count": null,
   "id": "6395ddd2-1f88-4fa7-9a6c-cfcf8b23dd7d",
   "metadata": {},
   "outputs": [],
   "source": [
    "with pd.option_context('display.max_rows', None, 'display.max_columns', None):\n",
    "    print(round(position_df), 2)"
   ]
  },
  {
   "cell_type": "code",
   "execution_count": null,
   "id": "ae32417b-d628-4bab-88d9-3a848a123c88",
   "metadata": {},
   "outputs": [],
   "source": [
    "with pd.option_context('display.max_rows', None, 'display.max_columns', None):\n",
    "    print(round(player_df), 2)"
   ]
  },
  {
   "cell_type": "code",
   "execution_count": 85,
   "id": "91906f46-5fa9-490c-8f45-b805cf2b6d8d",
   "metadata": {},
   "outputs": [],
   "source": [
    "nytp_player_df = starters_df[starters_df['Team'] == 'NYTP'].groupby(['Player']).apply(calc_difference)"
   ]
  },
  {
   "cell_type": "code",
   "execution_count": 86,
   "id": "cfe0936a-b32b-4ccb-a4e0-c76d959b6924",
   "metadata": {},
   "outputs": [
    {
     "name": "stdout",
     "output_type": "stream",
     "text": [
      "Player\n",
      "Bills D/ST         6.0\n",
      "Christian Kirk    12.0\n",
      "Jakobi Meyers     11.0\n",
      "Joe Mixon         15.0\n",
      "Josh Allen        21.0\n",
      "Justin Tucker      9.0\n",
      "Mark Andrews      13.0\n",
      "Mike Williams     13.0\n",
      "Saquon Barkley    17.0\n",
      "dtype: float64 2\n"
     ]
    }
   ],
   "source": [
    "with pd.option_context('display.max_rows', None, 'display.max_columns', None):\n",
    "    print(round(nytp_player_df), 2)"
   ]
  },
  {
   "cell_type": "markdown",
   "id": "c370d540-49ee-41bd-ba88-d6140475884e",
   "metadata": {},
   "source": [
    "## Advanced Plotting"
   ]
  },
  {
   "cell_type": "code",
   "execution_count": 87,
   "id": "0828eec6-044e-4447-b3be-bdce2ffb90cf",
   "metadata": {},
   "outputs": [],
   "source": [
    "slotcodes = {\n",
    "    0: 'QB', 1: 'QB',\n",
    "    2: 'RB', 3: 'RB',\n",
    "    4: 'WR', 5: 'WR',\n",
    "    6: 'TE',\n",
    "    16: 'D/ST',\n",
    "    17: 'K',\n",
    "    20: 'Bench',\n",
    "    23: 'Flex'\n",
    "}"
   ]
  },
  {
   "cell_type": "code",
   "execution_count": 88,
   "id": "047d0f0a-5a5b-4c77-ad04-eb1f1ca2c1a1",
   "metadata": {},
   "outputs": [],
   "source": [
    "def get_matchups(league_id, season, week, swid='', espn_s2=''):\n",
    "    '''\n",
    "    Pull full JSON of matchup data from ESPN API for a particular week\n",
    "    '''\n",
    "    \n",
    "    url = f'http://fantasy.espn.com/apis/v3/games/ffl/seasons/{season}/segments/0/leagues/{league_id}'\n",
    "    \n",
    "    r = requests.get(url + '?view=mMatchup&view=mMatchupScore',\n",
    "                     params={ 'scoringPeriodId': week, 'matchupPeriodId': week },\n",
    "                     cookies={ 'SWID': swid, 'espn_s2': espn_s2})\n",
    "    \n",
    "    return r.json()"
   ]
  },
  {
   "cell_type": "code",
   "execution_count": 89,
   "id": "3f017ede-3029-40ed-98ae-ff6643150f1d",
   "metadata": {},
   "outputs": [],
   "source": [
    "def get_slates(json):\n",
    "    '''\n",
    "    Constructs week team slates with slotted position,\n",
    "    position, and points (actual and ESPN projected),\n",
    "    given full matchup info (`get_matchups')\n",
    "    '''\n",
    "    \n",
    "    slates = {}\n",
    "    \n",
    "    for team in d['teams']:\n",
    "        slate = []\n",
    "        for p in team['roster']['entries']:\n",
    "            # get name\n",
    "            name = p['playerPoolEntry']['player']['fullName']\n",
    "            \n",
    "            # get actual lineup slot\n",
    "            slotid = p['lineupSlotId']\n",
    "            slot = slotcodes[slotid]\n",
    "            \n",
    "            # get projected and actual scores\n",
    "            act, proj = 0, 0\n",
    "            for stat in p['playerPoolEntry']['player']['stats']:\n",
    "                if stat['scoringPeriodId'] != week:\n",
    "                    continue\n",
    "                if stat['statSourceId'] == 0:\n",
    "                    act = stat['appliedTotal']\n",
    "                elif stat['statSourceId'] == 1:\n",
    "                    proj = stat['appliedTotal']\n",
    "                else:\n",
    "                    print('Error')\n",
    "            \n",
    "            # get type of player\n",
    "            pos = 'Unk'\n",
    "            ess = p['playerPoolEntry']['player']['eligibleSlots']\n",
    "            if 0 in ess: pos = 'QB'\n",
    "            elif 2 in ess: pos = 'RB'\n",
    "            elif 4 in ess: pos = 'WR'\n",
    "            elif 6 in ess: pos = 'TE'\n",
    "            elif 16 in ess: pos = 'D/ST'\n",
    "            elif 17 in ess: pos = 'K'\n",
    "            \n",
    "            slate.append([name, slotid, slot, pos, act, proj])\n",
    "            \n",
    "        slate = pd.DataFrame(slate, columns=['Name', 'SlotID', 'Slot', 'Pos', 'Actual', 'Proj'])\n",
    "        slates[team['id']] = slate\n",
    "        \n",
    "    return slates"
   ]
  },
  {
   "cell_type": "code",
   "execution_count": 90,
   "id": "e18aed4a-903a-4245-8d87-d4ea3545cc90",
   "metadata": {},
   "outputs": [],
   "source": [
    "# Modified code to just focus on actual projected to start\n",
    "def compute_pts(slates, posns, struc):\n",
    "    '''\n",
    "    Given slates (`get_slates`), compute total roster pts:\n",
    "    actual and projected using ESPN\n",
    "    \n",
    "    Parameters\n",
    "    ---------------\n",
    "    slates : `dict` of `DataFrames`\n",
    "        (from `get_slates`)\n",
    "    posns : `list`\n",
    "        roster positions, e.g. ['QB', 'RB', 'WR', 'TE']\n",
    "    struc : `list`\n",
    "        slots per position, e.g. [1, 2, 2, 1]\n",
    "        \n",
    "    * This is not flexible enough to handler \"weird\" leagues\n",
    "    like 6 Flex slots with constraints on # total RB/WR\n",
    "    \n",
    "    Returns\n",
    "    ---------------\n",
    "    `dict` of `dict`s with actual, projected points\n",
    "    '''\n",
    "    \n",
    "    data = {}\n",
    "    for tmid, slate in slates.items():\n",
    "        pts = { 'epts': 0, 'apts': 0 }\n",
    "        # ACTUAL STARTERS\n",
    "        pts['apts'] = slate.query('Slot not in [\"Bench\", \"IR\"]').filter(['Actual']).sum().values[0]\n",
    "        # PROJECTED STARTERS\n",
    "        pts['epts'] = slate.query('Slot not in [\"Bench\", \"IR\"]').filter(['Proj']).sum().values[0]\n",
    "        \n",
    "        data[tmid] = pts\n",
    "        \n",
    "    return data"
   ]
  },
  {
   "cell_type": "code",
   "execution_count": 91,
   "id": "d43fd712-84ec-4c75-addc-e59ed9101982",
   "metadata": {},
   "outputs": [],
   "source": [
    "def get_teamnames(league_id, season, week, swid='', espn_s2=''):\n",
    "    url = 'https://fantasy.espn.com/apis/v3/games/ffl/seasons/' + \\\n",
    "      str(season) + '/segments/0/leagues/' + str(league_id)\n",
    "    \n",
    "    r = requests.get(url + '?view=mTeam',\n",
    "                  params={'scoringPeriodId': week},\n",
    "                  cookies={\"SWID\": swid, \"espn_s2\": espn_s2})\n",
    "    d = r.json()\n",
    "    \n",
    "    tm_names = {tm['id']: tm['location'].strip() + ' ' + tm['nickname'].strip() \\\n",
    "                for tm in d['teams']}\n",
    "    \n",
    "    return tm_names"
   ]
  },
  {
   "cell_type": "code",
   "execution_count": 92,
   "id": "b1474af8-7a57-4214-b51d-7ee153ee7d38",
   "metadata": {},
   "outputs": [],
   "source": [
    "# Only plot actual and projected for a given week\n",
    "def plot_week(d, data, week, tm_names, nummatchups=6,\n",
    "              minx=70, maxx=200, legend=4):\n",
    "    fig, ax = plt.subplots(1, 1, figsize=(12, 8))\n",
    "    \n",
    "    # hardcoded plot adjustments\n",
    "    dif, offset = 5, 2\n",
    "    \n",
    "    # for y-axis tick labels\n",
    "    tmlist, tmticks, tmbold = [], [], []\n",
    "    \n",
    "    cury = 0\n",
    "    for g in d['schedule'][:nummatchups]:\n",
    "        aid, anm = -1, ''\n",
    "        hid, hnm = -1, ''\n",
    "        try:\n",
    "            aid = g['away']['teamId']\n",
    "            anm = tm_names[aid]\n",
    "            hid = g['home']['teamId']\n",
    "            hnm = tm_names[hid]\n",
    "        except:\n",
    "            continue\n",
    "            \n",
    "        tmlist.append(anm)\n",
    "        tmlist.append(hnm)\n",
    "        \n",
    "        if data[aid]['apts'] > data[hid]['apts']:\n",
    "            tmbold.extend([1,0])\n",
    "        else:\n",
    "            tmbold.extend([0,1])\n",
    "            \n",
    "        for pts in [data[aid], data[hid]]:\n",
    "            #h = 1 if (pts['opts']-offset) > pts['apts'] else 0\n",
    "            tmticks.append(cury)\n",
    "            ax.plot([minx, maxx], [cury, cury], 'k--', linewidth=1, alpha=0.1)\n",
    "            #ax.plot([pts['apts'], pts['opts']-offset*h], [cury, cury], 'k-')\n",
    "            ax.scatter(pts['epts'], cury, c='w', s=200, marker='o', edgecolor='g')\n",
    "            ax.scatter(pts['epts'], cury, c='w', s=100)\n",
    "            \n",
    "            cury += dif\n",
    "            \n",
    "        cury += 2*dif\n",
    "    \n",
    "    # setting y-axis\n",
    "    ax.set(yticks=tmticks, yticklabels=tmlist)\n",
    "    \n",
    "    for k, tick in enumerate(ax.yaxis.get_major_ticks()):\n",
    "        if tmbold[k] == 1:\n",
    "            tick.label1.set_fontweight('bold')\n",
    "            \n",
    "    # legend stuff\n",
    "    ax.scatter([], [], c='k', s=100, label='Actual')\n",
    "    ax.scatter([], [], c='w', s=200, marker='o', edgecolor='g', label='ESPN')\n",
    "    # ax.scatter([], [], c='b', s=100, alpha=0.2, label='Best Possible')\n",
    "    ax.legend(loc=legend, borderaxespad=2, borderpad=1, labelspacing=1.5, shadow=True, fontsize=12)\n",
    "    \n",
    "    ax.set(title='week %d' % week)\n",
    "    \n",
    "    return ax"
   ]
  },
  {
   "cell_type": "code",
   "execution_count": 93,
   "id": "0c70243e-9bcb-464f-8895-6413d12229e7",
   "metadata": {},
   "outputs": [],
   "source": [
    "league_id = 1573528230\n",
    "season = 2023\n",
    "week = 1\n",
    "posns = ['QB', 'RB', 'WR', 'Flex', 'TE', 'D/ST', 'K']\n",
    "struc = [1, 2, 2, 1, 1, 1, 1]\n",
    "\n",
    "d      = get_matchups(league_id, season, week, swid=swid, espn_s2=espn_s2)\n",
    "slates = get_slates(d)\n",
    "wdata  = compute_pts(slates, posns, struc)\n",
    "tms    = get_teamnames(league_id, season, week, swid=swid, espn_s2=espn_s2)"
   ]
  },
  {
   "cell_type": "code",
   "execution_count": 94,
   "id": "c81c90ad-bea3-4aac-ba38-2f76942e3eb0",
   "metadata": {},
   "outputs": [],
   "source": [
    "# League Team Names\n",
    "tms = {\n",
    "    1: 'Jameson',\n",
    "    2: 'New York Trash Pandas',\n",
    "    3: 'Team Cresswell',\n",
    "    4: 'Team Brown',\n",
    "    5: 'Roc Bottom Bullies',\n",
    "    6: 'Team Dhillon',\n",
    "    7: 'Sugma',\n",
    "    8: 'Team Durham',\n",
    "    9: 'Blitz gang',\n",
    "    10: 'Amon RA DOGGIN'\n",
    "}"
   ]
  },
  {
   "cell_type": "code",
   "execution_count": 95,
   "id": "0cb0aff7-f46d-4860-9233-ecb181e73bc9",
   "metadata": {},
   "outputs": [
    {
     "data": {
      "image/png": "[encoded data removed]",
      "text/plain": [
       "<Figure size 1200x800 with 1 Axes>"
      ]
     },
     "metadata": {},
     "output_type": "display_data"
    }
   ],
   "source": [
    "ax = plot_week(d, wdata, week, tms, nummatchups=5)\n",
    "plt.show()"
   ]
  },
  {
   "cell_type": "markdown",
   "id": "84651599-56f6-49c0-bca4-f36350c2bf12",
   "metadata": {},
   "source": [
    "## Factoring in Optimal Lineup"
   ]
  },
  {
   "cell_type": "code",
   "execution_count": 96,
   "id": "ded1fcc8-7d18-4e95-bd11-a66ca7af2675",
   "metadata": {},
   "outputs": [],
   "source": [
    "def compute_pts(slates, posns, struc):\n",
    "    '''\n",
    "    ``dict` of `dict`s with actual, ESPN, optimal points\n",
    "    '''\n",
    "    \n",
    "    data = {}\n",
    "    for tmid, slate in slates.items():\n",
    "        pts = { 'opts': 0, 'epts': 0, 'apts': 0 }\n",
    "        \n",
    "        # ACTUAL STARTERS\n",
    "        pts['apts'] = slate.query('Slot not in [\"Bench\", \"IR\"]').filter(['Actual']).sum().values[0]\n",
    "        \n",
    "        # OPTIMAL and ESPNPROJ STARTERS\n",
    "        for method, cat in [('Actual', 'opts'), ('Proj', 'epts')]:\n",
    "            actflex = -100  # actual pts scored by flex\n",
    "            proflex = -100 # 'proj' pts scored by flex\n",
    "            \n",
    "            # new code\n",
    "            actop = -100\n",
    "            proop = -100\n",
    "            \n",
    "            for pos, num in zip(posns, struc):\n",
    "                # actual points, sorted by either actual or proj outcome\n",
    "                t = slate.query('Pos == @pos').sort_values(by=method, ascending=False).filter(['Actual']).values[:,0]\n",
    "                \n",
    "                # projected points, sorted by either actual or proj outcome\n",
    "                t2 = slate.query('Pos == @pos').sort_values(by=method, ascending=False).filter(['Proj']).values[:,0]\n",
    "                \n",
    "                # sum up points\n",
    "                pts[cat] += t[:num].sum()\n",
    "                \n",
    "                # set the next best as flex\n",
    "                if pos in ['RB', 'WR', 'TE'] and len(t) > num:\n",
    "                    fn = t[num] if method=='Actual' else t2[num]\n",
    "                    if fn > proflex:\n",
    "                        actflex = t[num]\n",
    "                        proflex = fn\n",
    "                        \n",
    "                # do the same for offensive positions\n",
    "                if pos in ['QB', 'RB', 'WR', 'TE'] and len(t) > num:\n",
    "                    fn = t[num] if method=='Actual' else t2[num]\n",
    "                    if fn > proop:\n",
    "                        actop = t[num]\n",
    "                        proop = fn\n",
    "                        \n",
    "            pts[cat] += actop\n",
    "            pts[cat] += actflex\n",
    "            \n",
    "        data[tmid] = pts\n",
    "        \n",
    "    return data"
   ]
  },
  {
   "cell_type": "code",
   "execution_count": 97,
   "id": "b4d7ec58-7d11-4de6-b664-3c8922f08180",
   "metadata": {},
   "outputs": [],
   "source": [
    "# Only plot actual and projected for a given week\n",
    "def plot_week(d, data, week, tm_names, nummatchups=6,\n",
    "              minx=70, maxx=200, legend=4):\n",
    "    fig, ax = plt.subplots(1, 1, figsize=(12, 8))\n",
    "    \n",
    "    # hardcoded plot adjustments\n",
    "    dif, offset = 5, 2\n",
    "    \n",
    "    # for y-axis tick labels\n",
    "    tmlist, tmticks, tmbold = [], [], []\n",
    "    \n",
    "    cury = 0\n",
    "    for g in d['schedule'][:nummatchups]:\n",
    "        aid, anm = -1, ''\n",
    "        hid, hnm = -1, ''\n",
    "        try:\n",
    "            aid = g['away']['teamId']\n",
    "            anm = tm_names[aid]\n",
    "            hid = g['home']['teamId']\n",
    "            hnm = tm_names[hid]\n",
    "        except:\n",
    "            continue\n",
    "            \n",
    "        tmlist.append(anm)\n",
    "        tmlist.append(hnm)\n",
    "        \n",
    "        if data[aid]['apts'] > data[hid]['apts']:\n",
    "            tmbold.extend([1,0])\n",
    "        else:\n",
    "            tmbold.extend([0,1])\n",
    "            \n",
    "        for pts in [data[aid], data[hid]]:\n",
    "            h = 1 if (pts['opts']-offset) > pts['apts'] else 0\n",
    "            tmticks.append(cury)\n",
    "            ax.plot([minx, maxx], [cury, cury], 'k--', linewidth=1, alpha=0.1)\n",
    "            ax.plot([pts['apts'], pts['opts']-offset*h], [cury, cury], 'k-')\n",
    "            ax.scatter(pts['epts'], cury, c='w', s=200, marker='o', edgecolor='g')\n",
    "            ax.scatter(pts['epts'], cury, c='w', s=100)\n",
    "            \n",
    "            # if optimal==actual, need to put blue inside black\n",
    "            if pts['opts'] == pts['apts']:\n",
    "                ax.scatter(pts['opts'], cury, c='w', s=25)\n",
    "                ax.scatter(pts['opts'], cury, c='b', s=25, alpha=0.2)\n",
    "            else:\n",
    "                ax.scatter(pts['opts'], cury, c='b', s=100, alpha=0.2)\n",
    "            \n",
    "            cury += dif\n",
    "            \n",
    "        cury += 2*dif\n",
    "    \n",
    "    # setting y-axis\n",
    "    ax.set(yticks=tmticks, yticklabels=tmlist)\n",
    "    \n",
    "    for k, tick in enumerate(ax.yaxis.get_major_ticks()):\n",
    "        if tmbold[k] == 1:\n",
    "            tick.label1.set_fontweight('bold')\n",
    "            \n",
    "    # legend stuff\n",
    "    ax.scatter([], [], c='k', s=100, label='Actual')\n",
    "    ax.scatter([], [], c='w', s=200, marker='o', edgecolor='g', label='ESPN')\n",
    "    ax.scatter([], [], c='b', s=100, alpha=0.2, label='Best Possible')\n",
    "    ax.legend(loc=legend, borderaxespad=2, borderpad=1, labelspacing=1.5, shadow=True, fontsize=12)\n",
    "    \n",
    "    ax.set(title='Week %d' % week)\n",
    "    \n",
    "    return ax"
   ]
  },
  {
   "cell_type": "code",
   "execution_count": 98,
   "id": "4d9b989b-75f3-454f-9394-6777aa732313",
   "metadata": {},
   "outputs": [],
   "source": [
    "league_id = 1573528230\n",
    "season = 2023\n",
    "week = 1\n",
    "posns = ['QB', 'RB', 'WR', 'Flex', 'TE', 'D/ST', 'K']\n",
    "struc = [1, 2, 2, 1, 1, 1, 1]\n",
    "\n",
    "d      = get_matchups(league_id, season, week, swid=swid, espn_s2=espn_s2)\n",
    "slates = get_slates(d)\n",
    "wdata  = compute_pts(slates, posns, struc)\n",
    "tms    = get_teamnames(league_id, season, week, swid=swid, espn_s2=espn_s2)"
   ]
  },
  {
   "cell_type": "code",
   "execution_count": 99,
   "id": "f7f4fc8f-c911-49e6-b093-f48bcfe6ca23",
   "metadata": {},
   "outputs": [
    {
     "data": {
      "image/png": "[encoded data removed]",
      "text/plain": [
       "<Figure size 1200x800 with 1 Axes>"
      ]
     },
     "metadata": {},
     "output_type": "display_data"
    }
   ],
   "source": [
    "ax = plot_week(d, wdata, week, tms, nummatchups=5)\n",
    "plt.show()"
   ]
  },
  {
   "cell_type": "code",
   "execution_count": null,
   "id": "59c52a72-5c59-43ed-a92d-4165af5fa735",
   "metadata": {},
   "outputs": [],
   "source": []
  }
 ],
 "metadata": {
  "kernelspec": {
   "display_name": "venv",
   "language": "python",
   "name": "venv"
  },
  "language_info": {
   "codemirror_mode": {
    "name": "ipython",
    "version": 3
   },
   "file_extension": ".py",
   "mimetype": "text/x-python",
   "name": "python",
   "nbconvert_exporter": "python",
   "pygments_lexer": "ipython3",
   "version": "3.10.9"
  }
 },
 "nbformat": 4,
 "nbformat_minor": 5
}
